{
 "cells": [
  {
   "cell_type": "code",
   "execution_count": 5,
   "metadata": {},
   "outputs": [
    {
     "name": "stdout",
     "output_type": "stream",
     "text": [
      "v > 0\n",
      "mu: [-1, 1]\n",
      "v > 0\n",
      "mu: [1, 1]\n",
      "2 -2\n",
      "mu is negative\n",
      "weight error is negative, therefore increase the weight\n",
      "threshold error is negative, therefore increase threshold\n",
      "v(B): 2.2\n",
      "v(C): 1.0\n",
      "v(A): 1.6\n"
     ]
    }
   ],
   "source": [
    "# Q2\n",
    "# v = phi * sum(w_i*mu_i - mu)\n",
    "\n",
    "import numpy as np\n",
    "\n",
    "w = [1,3]\n",
    "\n",
    "u1 = [-1,1]\n",
    "u2 = [1,1]\n",
    "u3 = [-1,-1]\n",
    "u4 = [1,-1]\n",
    "\n",
    "u = [u1, u2, u3, u4]\n",
    "\n",
    "for i, mu in enumerate(u):\n",
    "    v = np.dot(w,mu) - 0\n",
    "    \n",
    "    if v > 0:\n",
    "        print(\"v > 0\")\n",
    "        print(\"mu:\", mu)\n",
    "    else:\n",
    "        continue\n",
    "\n",
    "# Q3\n",
    "# output error v_d - v\n",
    "# to adjust delta_w = epsilon * (v_d -v) * mu_i\n",
    "# to adjust delta_mu = - epsilon * (v_d -v)\n",
    "v_d = -1\n",
    "v = 1\n",
    "mu_i = -1\n",
    "\n",
    "delta_w = (v_d - v) * mu_i\n",
    "delta_mu = (v_d - v)\n",
    "\n",
    "\n",
    "print(delta_w, delta_mu)\n",
    "if mu_i > 0:\n",
    "    print(\"mu is positive\")\n",
    "    if delta_w > 0:\n",
    "        print(\"weight error is positive, therefore increase the weight\")\n",
    "    else:\n",
    "        print(\"weight error is negative, therefore decrease the weight\")\n",
    "else:\n",
    "    print(\"mu is negative\")\n",
    "    if delta_w < 0:\n",
    "        print(\"weight error is positive, therefore decrease the weight\")\n",
    "    else:\n",
    "        print(\"weight error is negative, therefore increase the weight\")\n",
    "    \n",
    "if delta_mu > 0:\n",
    "    print(\"threshold error is positive, therefore decrease threshold\")\n",
    "else:\n",
    "    print(\"threshold error is negative, therefore increase threshold\")\n",
    "    \n",
    "    \n",
    "# Q11\n",
    "# v(C) = (0.5 * 2) + (0.5 * 0)\n",
    "v_C = ((.5 * 2) + (.5 * 0))\n",
    "# v(B) = v(B @ 0.8) + v(C @ 0.2)\n",
    "# v(B) = (((0.5 * 0) + (0.5 * 5)) * 0.8) + (v(C) * 0.2)\n",
    "v_B = (((.5 * .8 * 0) + (.5 * .8 * 5))) + (v_C*0.2)\n",
    "# v(A) = (0.5 * v(B)) + (0.5 * v(C))\n",
    "v_A = (.5 * v_B) + (.5 * v_C)\n",
    "\n",
    "print(\"v(B):\", v_B)\n",
    "print(\"v(C):\", v_C)\n",
    "print(\"v(A):\", v_A)"
   ]
  },
  {
   "cell_type": "code",
   "execution_count": null,
   "metadata": {},
   "outputs": [],
   "source": []
  }
 ],
 "metadata": {
  "kernelspec": {
   "display_name": "Python 3",
   "language": "python",
   "name": "python3"
  },
  "language_info": {
   "codemirror_mode": {
    "name": "ipython",
    "version": 3
   },
   "file_extension": ".py",
   "mimetype": "text/x-python",
   "name": "python",
   "nbconvert_exporter": "python",
   "pygments_lexer": "ipython3",
   "version": "3.7.5"
  }
 },
 "nbformat": 4,
 "nbformat_minor": 4
}
