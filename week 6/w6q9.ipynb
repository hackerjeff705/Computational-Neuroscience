{
 "cells": [
  {
   "cell_type": "code",
   "execution_count": 53,
   "metadata": {},
   "outputs": [
    {
     "name": "stdout",
     "output_type": "stream",
     "text": [
      "v_ss: [0.61609195 0.54022989 0.6091954  0.47126437 0.42988506]\n"
     ]
    }
   ],
   "source": [
    "import numpy as np\n",
    "\n",
    "W = np.array([\n",
    "    [0.6, 0.1, 0.1, 0.1, 0.1],\n",
    "    [0.1, 0.6, 0.1, 0.1, 0.1],\n",
    "    [0.1, 0.1, 0.6, 0.1, 0.1],\n",
    "    [0.1, 0.1, 0.1, 0.6, 0.1],\n",
    "    [0.1, 0.1, 0.1, 0.1, 0.6]\n",
    "])\n",
    "\n",
    "# nummpy lists output vectors as rows, eigenvectors are the columns in the output matrix\n",
    "u = np.array([0.6, 0.5, 0.6, 0.2, 0.1])\n",
    "\n",
    "M = np.array([\n",
    "    [-0.25, 0.0, 0.25, 0.25, 0.0],\n",
    "    [0.0, -0.25, 0.0, 0.25, 0.25],\n",
    "    [0.25, 0.0, -0.25, 0.0, 0.25],\n",
    "    [0.25, 0.25, 0.0, -0.25, 0.0],\n",
    "    [0.0, 0.25, 0.25, 0.0, -0.25]\n",
    "])\n",
    "\n",
    "lambda_i, e_i = np.linalg.eigh(M)\n",
    "# print('e_i:', e_i)\n",
    "# print('lambda_i:', lambda_i) \n",
    "h = np.dot(W,u)\n",
    "# print('h:', h)\n",
    "v_ss = np.zeros(len(W))\n",
    "# print('initial v_ss:', v_ss)\n",
    "\n",
    "for i in range(len(e_i)):\n",
    "    ei = e_i[:, i]\n",
    "#     print(ei)\n",
    "    h_dot_e = np.dot(h, ei)\n",
    "#     print(h_dot_e)\n",
    "    v_i = (h_dot_e / (1-lambda_i[i])) * ei\n",
    "    v_ss += v_i\n",
    "\n",
    "print('v_ss:', v_ss)"
   ]
  }
 ],
 "metadata": {
  "kernelspec": {
   "display_name": "Python 3",
   "language": "python",
   "name": "python3"
  },
  "language_info": {
   "codemirror_mode": {
    "name": "ipython",
    "version": 3
   },
   "file_extension": ".py",
   "mimetype": "text/x-python",
   "name": "python",
   "nbconvert_exporter": "python",
   "pygments_lexer": "ipython3",
   "version": "3.7.5"
  }
 },
 "nbformat": 4,
 "nbformat_minor": 4
}
