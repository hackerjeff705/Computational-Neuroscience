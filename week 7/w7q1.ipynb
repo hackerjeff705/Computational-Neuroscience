{
 "cells": [
  {
   "cell_type": "code",
   "execution_count": 4,
   "metadata": {},
   "outputs": [
    {
     "name": "stdout",
     "output_type": "stream",
     "text": [
      "eigan value: [0.1381966 0.3618034]\n",
      "eigen vector [[-0.85065081 -0.52573111]\n",
      " [ 0.52573111 -0.85065081]]\n",
      "largest eigen value: 1\n",
      "w: [-1.05146222 -1.70130162]\n",
      "@ w1: [-1.7012499  -2.10297808]\n",
      "@ w2: [2.8826523  1.53423707]\n",
      "@ w3: [2.99849098 1.44689218]\n",
      "@ w4: [-2.00007185 -1.9999981 ]\n",
      "w/w1: 0.49997204986304433\n",
      "w/w2: 1.1612137000996094\n",
      "w/w3: 1.2807929801754958\n",
      "w/w4: 0.6180567801093282\n"
     ]
    }
   ],
   "source": [
    "import numpy as np\n",
    "\n",
    "Q = np.array([[0.2, 0.1],\n",
    "             [0.1, 0.3]])\n",
    "\n",
    "eVal, eVec = np.linalg.eig(Q)\n",
    "print('eigan value:', eVal)\n",
    "print('eigen vector', eVec)\n",
    "\n",
    "# to find w: w = Q/tau >> w(t) = e_1/sqrt(alpha) or eVec/sqrt(alpha)\n",
    "# e_1 = largest eigen value\n",
    "iMax = eVal.argmax()\n",
    "print('largest eigen value:', iMax)\n",
    "\n",
    "w = 2 * eVec[:, iMax]\n",
    "print('w:', w)\n",
    "\n",
    "w1 = (np.array([0.8944, 1.7889]).T) # wrong\n",
    "w2 = (np.array([-1.5155, -1.3051]).T) # wrong\n",
    "w3 = (np.array([-1.5764, -1.2308]).T)\n",
    "w4 = (np.array([1.0515, 1.7013]).T) # wrong\n",
    "\n",
    "print('@ w1:', w1/eVec[:, iMax])\n",
    "print('@ w2:', w2/eVec[:, iMax])\n",
    "print('@ w3:', w3/eVec[:, iMax])\n",
    "print('@ w4:', w4/eVec[:, iMax])\n",
    "\n",
    "print('w/w1:', w1[0]/w1[1])\n",
    "print('w/w2:', w2[0]/w2[1])\n",
    "print('w/w3:', w3[0]/w3[1])\n",
    "print('w/w4:', w4[0]/w4[1])"
   ]
  },
  {
   "cell_type": "code",
   "execution_count": null,
   "metadata": {},
   "outputs": [],
   "source": []
  }
 ],
 "metadata": {
  "kernelspec": {
   "display_name": "Python 3",
   "language": "python",
   "name": "python3"
  },
  "language_info": {
   "codemirror_mode": {
    "name": "ipython",
    "version": 3
   },
   "file_extension": ".py",
   "mimetype": "text/x-python",
   "name": "python",
   "nbconvert_exporter": "python",
   "pygments_lexer": "ipython3",
   "version": "3.7.5"
  }
 },
 "nbformat": 4,
 "nbformat_minor": 4
}
